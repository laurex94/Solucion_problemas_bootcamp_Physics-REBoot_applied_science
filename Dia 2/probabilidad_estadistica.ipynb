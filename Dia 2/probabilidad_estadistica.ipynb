{
 "cells": [
  {
   "cell_type": "code",
   "execution_count": null,
   "metadata": {},
   "outputs": [],
   "source": []
  },
  {
   "cell_type": "code",
   "execution_count": 6,
   "metadata": {},
   "outputs": [
    {
     "name": "stdout",
     "output_type": "stream",
     "text": [
      "0.5005000000000002\n"
     ]
    }
   ],
   "source": [
    "def integration(begin,end):\n",
    "    # suma acumulada de cada rectangulo\n",
    "    acumulated_sum = 0 \n",
    "    # numero de rectangulos\n",
    "    n = 1000 \n",
    "    # el ancho de cada rectangulo\n",
    "    width = (end - begin)/n \n",
    "    # primer rectangulo\n",
    "    rectangle=1\n",
    "    while rectangle <= n:\n",
    "        x = begin + (width*rectangle)\n",
    "        y = x\n",
    "        area = y * width\n",
    "        acumulated_sum +=  area\n",
    "        rectangle += 1\n",
    "    print(acumulated_sum)\n",
    "        \n",
    "        \n",
    "integration(0,1)"
   ]
  },
  {
   "cell_type": "code",
   "execution_count": 18,
   "metadata": {},
   "outputs": [
    {
     "name": "stdout",
     "output_type": "stream",
     "text": [
      "0.5\n"
     ]
    }
   ],
   "source": [
    "from scipy import integrate\n",
    "\n",
    "#funcion a resolver\n",
    "def function_to_solve(x):\n",
    "    return x\n",
    "# integracion\n",
    "integral = integrate.quad(function_to_solve, 0., 1.)\n",
    "print(integral[0])"
   ]
  }
 ],
 "metadata": {
  "kernelspec": {
   "display_name": "Python 3",
   "language": "python",
   "name": "python3"
  },
  "language_info": {
   "codemirror_mode": {
    "name": "ipython",
    "version": 3
   },
   "file_extension": ".py",
   "mimetype": "text/x-python",
   "name": "python",
   "nbconvert_exporter": "python",
   "pygments_lexer": "ipython3",
   "version": "3.8.5"
  }
 },
 "nbformat": 4,
 "nbformat_minor": 4
}
